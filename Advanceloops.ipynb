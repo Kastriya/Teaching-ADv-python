{
  "cells": [
    {
      "cell_type": "markdown",
      "metadata": {
        "id": "view-in-github",
        "colab_type": "text"
      },
      "source": [
        "<a href=\"https://colab.research.google.com/github/Kastriya/Teaching-ADv-python/blob/main/Advanceloops.ipynb\" target=\"_parent\"><img src=\"https://colab.research.google.com/assets/colab-badge.svg\" alt=\"Open In Colab\"/></a>"
      ]
    },
    {
      "cell_type": "markdown",
      "metadata": {
        "id": "WWV3i9DWyCzy"
      },
      "source": [
        "🔁 ADVANCED LOOPS IN PYTHON 🔁\n",
        "✅ 1. Looping with enumerate() – Index + Value Together\n"
      ]
    },
    {
      "cell_type": "code",
      "execution_count": null,
      "metadata": {
        "colab": {
          "base_uri": "https://localhost:8080/"
        },
        "id": "ZfpIIw57vPF1",
        "outputId": "d8a0d995-0e38-4ae5-b516-92afcc27f71d"
      },
      "outputs": [
        {
          "name": "stdout",
          "output_type": "stream",
          "text": [
            "(0, 'apple')\n",
            "(1, 'banana')\n",
            "(2, 'cherry')\n"
          ]
        }
      ],
      "source": [
        "fruits = ['apple', 'banana', 'cherry']\n",
        "for fruit in enumerate(fruits):\n",
        "    print(fruit)"
      ]
    },
    {
      "cell_type": "markdown",
      "metadata": {
        "id": "4YVJnlxEyQ1S"
      },
      "source": [
        "✅ 2. Looping with zip() – Loop Through Multiple Lists"
      ]
    },
    {
      "cell_type": "code",
      "execution_count": null,
      "metadata": {
        "colab": {
          "base_uri": "https://localhost:8080/"
        },
        "id": "FlSOpm6zvpWr",
        "outputId": "194ca7e8-b78a-4ce6-d7ab-c6c21e0cce80"
      },
      "outputs": [
        {
          "name": "stdout",
          "output_type": "stream",
          "text": [
            "('Ram', 4333)\n",
            "('Shyam', 92)\n",
            "('Mohan', 78)\n"
          ]
        }
      ],
      "source": [
        "names = ['Ram', 'Shyam', 'Mohan']\n",
        "scores = [4333, 92, 78]\n",
        "\n",
        "for name in zip(names,scores):\n",
        "  print(name)"
      ]
    },
    {
      "cell_type": "markdown",
      "metadata": {
        "id": "z37PQoF_yX97"
      },
      "source": [
        "✅ 3. List Comprehension with if & for – Compact Loop Logic"
      ]
    },
    {
      "cell_type": "code",
      "execution_count": null,
      "metadata": {
        "colab": {
          "base_uri": "https://localhost:8080/"
        },
        "id": "i4rOviOdx746",
        "outputId": "5a7be2ac-085b-4703-b3dd-70eb20312fb3"
      },
      "outputs": [
        {
          "name": "stdout",
          "output_type": "stream",
          "text": [
            "[4, 16, 36, 64]\n"
          ]
        }
      ],
      "source": [
        "# Even squares of 1 to 10\n",
        "square=[y*y for y in range(1,10) if y%2==0]\n",
        "print(square)\n"
      ]
    },
    {
      "cell_type": "markdown",
      "metadata": {
        "id": "oxtc3f6_0p0T"
      },
      "source": [
        "✅ 4. Nested Loops (Advanced Use) – Matrix/Grid Traversal"
      ]
    },
    {
      "cell_type": "code",
      "execution_count": null,
      "metadata": {
        "colab": {
          "base_uri": "https://localhost:8080/"
        },
        "id": "LXKBlefU0o7c",
        "outputId": "98549a5c-96cb-49f0-ef0a-aa86b3cbdfac"
      },
      "outputs": [
        {
          "name": "stdout",
          "output_type": "stream",
          "text": [
            "4-3-4-5-5-"
          ]
        }
      ],
      "source": [
        "matrix = [[[4]], [[3, 4]], [[5, 5]]]\n",
        "result=\"\"\n",
        "for row in matrix:\n",
        "  for value in row:\n",
        "    for test in value:\n",
        "      result=test\n",
        "      print(result,end=\"-\")"
      ]
    },
    {
      "cell_type": "markdown",
      "metadata": {
        "id": "S_gYqeAO5Rf-"
      },
      "source": [
        "✅ 5. Using else with loops – Only executes if loop didn’t break"
      ]
    },
    {
      "cell_type": "code",
      "execution_count": null,
      "metadata": {
        "colab": {
          "base_uri": "https://localhost:8080/"
        },
        "id": "_ROrEmbu5G9y",
        "outputId": "24b71905-1530-447d-e0b6-b934ec27ca2e"
      },
      "outputs": [
        {
          "name": "stdout",
          "output_type": "stream",
          "text": [
            "Completed without break\n"
          ]
        }
      ],
      "source": [
        "for i in range(5,6):\n",
        "    if i == 3:\n",
        "      print(\"Completed\")\n",
        "      break\n",
        "else:\n",
        "    print(\"Completed without break\")  # Won’t print\n"
      ]
    },
    {
      "cell_type": "markdown",
      "metadata": {
        "id": "g3gIxca55UJS"
      },
      "source": [
        "✅ 6. Loop with range() and step – Reverse and Skips"
      ]
    },
    {
      "cell_type": "code",
      "execution_count": null,
      "metadata": {
        "colab": {
          "base_uri": "https://localhost:8080/"
        },
        "id": "M6TEqwvF5X88",
        "outputId": "b0ade025-a1dc-4883-dad0-89c490413913"
      },
      "outputs": [
        {
          "name": "stdout",
          "output_type": "stream",
          "text": [
            "10\n",
            "7\n",
            "4\n",
            "1\n"
          ]
        }
      ],
      "source": [
        "for i in range(10,0,-3):  # Reverse loop\n",
        "    print(i)\n"
      ]
    },
    {
      "cell_type": "markdown",
      "metadata": {
        "id": "nx97XdhS6ltV"
      },
      "source": [
        "✅ 7. Set & Dict Loops (Unordered Iteration)"
      ]
    },
    {
      "cell_type": "code",
      "execution_count": null,
      "metadata": {
        "colab": {
          "base_uri": "https://localhost:8080/"
        },
        "id": "VYmaM_AU6lUJ",
        "outputId": "8096c5b7-565b-4ffe-8787-01ec25c32863"
      },
      "outputs": [
        {
          "name": "stdout",
          "output_type": "stream",
          "text": [
            "a = 1\n",
            "b = 2\n"
          ]
        }
      ],
      "source": [
        "# Dictionary\n",
        "my_dict = {\n",
        "    'a': 1,\n",
        "    'b': 2\n",
        "           }\n",
        "for keyy, value in my_dict.items():\n",
        "    print(f\"{keyy} = {value}\")\n"
      ]
    },
    {
      "cell_type": "markdown",
      "metadata": {
        "id": "VErCsroc7Jxm"
      },
      "source": [
        "✅ 8. Using iter() and next() manually"
      ]
    },
    {
      "cell_type": "code",
      "execution_count": 14,
      "metadata": {
        "colab": {
          "base_uri": "https://localhost:8080/"
        },
        "id": "zgnYx_r87NaK",
        "outputId": "ed80f71b-9dc5-42be-e102-199f104296ec"
      },
      "outputs": [
        {
          "output_type": "stream",
          "name": "stdout",
          "text": [
            "10\n",
            "20\n",
            "30\n",
            "None\n"
          ]
        }
      ],
      "source": [
        "nums = 10, 20, 30,None\n",
        "nums = iter(nums)\n",
        "print(next(nums))  # 10\n",
        "print(next(nums))\n",
        "print(next(nums))\n",
        "print(next(nums))  # 20\n",
        "\n"
      ]
    },
    {
      "cell_type": "markdown",
      "metadata": {
        "id": "wCy718XE72d-"
      },
      "source": [
        "✅ 9. Loop with continue and break"
      ]
    },
    {
      "cell_type": "code",
      "execution_count": null,
      "metadata": {
        "colab": {
          "base_uri": "https://localhost:8080/"
        },
        "id": "4ifkhpAv75bH",
        "outputId": "48c08006-d2e0-402c-e11f-da3ebdca7d70"
      },
      "outputs": [
        {
          "name": "stdout",
          "output_type": "stream",
          "text": [
            "1\n",
            "2\n",
            "4\n"
          ]
        }
      ],
      "source": [
        "for i in range(1, 6):\n",
        "    if i == 3:\n",
        "        continue  # skips 3\n",
        "    if i == 5:\n",
        "        break     # stops at 5\n",
        "    print(i)\n"
      ]
    },
    {
      "cell_type": "markdown",
      "metadata": {
        "id": "wPvbY9tX8C5n"
      },
      "source": [
        "✅ 10. Looping with itertools (pro level tools)"
      ]
    },
    {
      "cell_type": "code",
      "execution_count": 3,
      "metadata": {
        "colab": {
          "base_uri": "https://localhost:8080/"
        },
        "id": "RRDfgr1S8E7X",
        "outputId": "4201bdc0-6cb7-4ebf-9a90-3de90a9375f5"
      },
      "outputs": [
        {
          "output_type": "stream",
          "name": "stdout",
          "text": [
            "1 2\n"
          ]
        }
      ],
      "source": [
        "import itertools\n",
        "for i in itertools.cycle([1, 2, 3]):\n",
        "    print(i,i+1)\n",
        "    break  # remove break to make it infinite\n"
      ]
    }
  ],
  "metadata": {
    "colab": {
      "provenance": [],
      "authorship_tag": "ABX9TyNBwtyR8UpzYNXGkshzH+8U",
      "include_colab_link": true
    },
    "kernelspec": {
      "display_name": "Python 3",
      "name": "python3"
    },
    "language_info": {
      "name": "python"
    }
  },
  "nbformat": 4,
  "nbformat_minor": 0
}